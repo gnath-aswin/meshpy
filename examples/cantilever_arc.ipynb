{
 "cells": [
  {
   "cell_type": "markdown",
   "id": "0",
   "metadata": {},
   "source": [
    "# Cantilever beam"
   ]
  },
  {
   "cell_type": "markdown",
   "id": "1",
   "metadata": {},
   "source": [
    "This is a continuation of the example_2, where MeshPy is used to create the input file for 4C."
   ]
  },
  {
   "cell_type": "markdown",
   "id": "2",
   "metadata": {},
   "source": [
    "### Creating Cantilever"
   ]
  },
  {
   "cell_type": "markdown",
   "id": "3",
   "metadata": {},
   "source": [
    "Inorder to create a cantilever for analysis we require element type(meshpy.four_c.element_beam), material (meshpy.four_c.material) and function for the shape (meshpy.mesh_creation_functions). also need mesh object to hold all this attributes of cantilever."
   ]
  },
  {
   "cell_type": "code",
   "execution_count": null,
   "id": "4",
   "metadata": {},
   "outputs": [],
   "source": [
    "from meshpy.four_c.element_beam import Beam3rHerm2Line3, Beam3rLine2Line2\n",
    "from meshpy.four_c.input_file import InputFile\n",
    "from meshpy.four_c.material import MaterialReissner\n",
    "from meshpy.mesh_creation_functions.beam_basic_geometry import (\n",
    "    create_beam_mesh_arc_segment_via_axis,\n",
    "    create_beam_mesh_line,\n",
    ")\n",
    "\n",
    "input_file = InputFile()\n",
    "beam_type = Beam3rHerm2Line3\n",
    "beam_material = MaterialReissner(radius=0.1, youngs_modulus=1.0)"
   ]
  },
  {
   "cell_type": "code",
   "execution_count": null,
   "id": "5",
   "metadata": {},
   "outputs": [],
   "source": [
    "cantilever_arc = create_beam_mesh_arc_segment_via_axis(\n",
    "    input_file,\n",
    "    beam_type,\n",
    "    beam_material,\n",
    "    [0, 1, 0],\n",
    "    [0, 0, -10],\n",
    "    [0, 0, 0],\n",
    "    0.785,\n",
    "    n_el=10,\n",
    ")"
   ]
  },
  {
   "cell_type": "markdown",
   "id": "6",
   "metadata": {},
   "source": [
    "Cantilever object consist of set of nodes based on the function used to create the shape, using beam meash line create set of 3 geometry objects."
   ]
  },
  {
   "cell_type": "code",
   "execution_count": null,
   "id": "7",
   "metadata": {},
   "outputs": [],
   "source": [
    "# print(cantilever)"
   ]
  },
  {
   "cell_type": "code",
   "execution_count": null,
   "id": "8",
   "metadata": {},
   "outputs": [],
   "source": [
    "import pyvista as pv\n",
    "\n",
    "# pv.set_jupyter_backend('tramstate')  # or 'trame' but doesnot work\n",
    "input_file.display_pyvista()"
   ]
  },
  {
   "cell_type": "markdown",
   "id": "9",
   "metadata": {},
   "source": [
    "### Define the boundary conditions"
   ]
  },
  {
   "cell_type": "code",
   "execution_count": null,
   "id": "10",
   "metadata": {},
   "outputs": [],
   "source": [
    "from meshpy.core.conf import mpy\n",
    "from meshpy.four_c.boundary_condition import BoundaryCondition\n",
    "from meshpy.four_c.function import Function\n",
    "\n",
    "ft = Function(\"SYMBOLIC_FUNCTION_OF_TIME t\")\n",
    "fxt = Function(\"SYMBOLIC_FUNCTION_OF_SPACE_TIME t\")\n",
    "input_file.add(ft, fxt)\n",
    "input_file.add(\n",
    "    BoundaryCondition(\n",
    "        cantilever_arc[\"start\"],\n",
    "        \"NUMDOF 9 ONOFF 1 1 1 1 1 1 0 0 0 VAL 1 0.0 0.0 0.0 0.0 0.0 0.0 0.0 0.0 FUNCT 0 0 0 0 0 0 0 0 0\",\n",
    "        bc_type=mpy.bc.dirichlet,\n",
    "    )\n",
    ")\n",
    "input_file.add(\n",
    "    BoundaryCondition(\n",
    "        cantilever_arc[\"end\"],\n",
    "        \"NUMDOF 9 ONOFF 0 0 1 0 0 0 0 0 0 VAL 0.0 0.0 -0.000001 0.0 0.0 0.0 0.0 0.0 0.0 FUNCT 0 0 1 0 0 0 0 0 0\",\n",
    "        bc_type=mpy.bc.neumann,\n",
    "    )\n",
    ")"
   ]
  },
  {
   "cell_type": "markdown",
   "id": "11",
   "metadata": {},
   "source": [
    "### Define the Simulation parameter"
   ]
  },
  {
   "cell_type": "code",
   "execution_count": null,
   "id": "12",
   "metadata": {},
   "outputs": [],
   "source": [
    "from meshpy.four_c.header_functions import set_header_static, set_runtime_output\n",
    "\n",
    "set_header_static(input_file, time_step=0.1, n_steps=2)\n",
    "set_runtime_output(input_file)"
   ]
  },
  {
   "cell_type": "markdown",
   "id": "13",
   "metadata": {},
   "source": [
    "### Create the input file "
   ]
  },
  {
   "cell_type": "code",
   "execution_count": null,
   "id": "14",
   "metadata": {},
   "outputs": [],
   "source": [
    "input_file.write_input_file(\"./cantilever_arc/cantilever.dat\")"
   ]
  },
  {
   "cell_type": "markdown",
   "id": "15",
   "metadata": {},
   "source": [
    "### Running 4C Simulation with meshpy"
   ]
  },
  {
   "cell_type": "code",
   "execution_count": null,
   "id": "16",
   "metadata": {},
   "outputs": [],
   "source": [
    "from meshpy.four_c.run_four_c import run_four_c\n",
    "\n",
    "run = run_four_c(\n",
    "    input_file=\"/home/a11basna/meshpy/examples/cantilever_arc/cantilever.dat\",\n",
    "    output_dir=\"./cantilever_arc/\",\n",
    "    four_c_exe=\"/home/a11basna/4C/build/4C\",\n",
    ")\n",
    "assert run == 0"
   ]
  },
  {
   "cell_type": "markdown",
   "id": "17",
   "metadata": {},
   "source": [
    "### Visualizing the results"
   ]
  },
  {
   "cell_type": "code",
   "execution_count": null,
   "id": "18",
   "metadata": {},
   "outputs": [],
   "source": [
    "import pyvista as pv\n",
    "\n",
    "pv.set_jupyter_backend(\"trame\")  # or 'trame' but doesnot work\n",
    "\n",
    "reader = pv.get_reader(\"./cantilever_arc/xxx-structure-beams.pvd\")\n",
    "reader.time_values\n",
    "reader.set_active_time_point(2)\n",
    "mesh = reader.read()[0]\n",
    "\n",
    "# Plot in x–z plane (looking along -y)\n",
    "plotter = pv.Plotter()\n",
    "plotter.add_mesh(mesh, color=\"red\", show_edges=True)\n",
    "plotter.view_vector((0, -1, 0))\n",
    "plotter.show()"
   ]
  },
  {
   "cell_type": "code",
   "execution_count": null,
   "id": "19",
   "metadata": {},
   "outputs": [],
   "source": []
  }
 ],
 "metadata": {
  "kernelspec": {
   "display_name": "meshpy",
   "language": "python",
   "name": "python3"
  },
  "language_info": {
   "codemirror_mode": {
    "name": "ipython",
    "version": 3
   },
   "file_extension": ".py",
   "mimetype": "text/x-python",
   "name": "python",
   "nbconvert_exporter": "python",
   "pygments_lexer": "ipython3",
   "version": "3.12.9"
  }
 },
 "nbformat": 4,
 "nbformat_minor": 5
}
