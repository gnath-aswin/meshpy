{
 "cells": [
  {
   "cell_type": "markdown",
   "metadata": {},
   "source": [
    "# Example 2: Basic mesh generation functions\n",
    "$\n",
    "% Define TeX macros for this document\n",
    "\\def\\vv#1{\\boldsymbol{#1}}\n",
    "$\n",
    "This example shall showcase the core mesh generation functions provided in MeshPy."
   ]
  },
  {
   "cell_type": "code",
   "execution_count": 2,
   "metadata": {},
   "outputs": [],
   "source": [
    "import utils.general_utils"
   ]
  },
  {
   "cell_type": "markdown",
   "metadata": {},
   "source": [
    "In a first step we define the type of beam elements we want to use in this example.\n",
    "The mesh generation functions in MeshPy are agnostic with respect to the employed beam formulation, i.e., every possible beam type can be used with every mesh generation function.\n",
    "For this example we use the `Beam3rLine2Line2` class, which represents a two-noded beam element.\n",
    "Hand in hand with the beam type goes the beam material that stores information about the beam-cross section.\n",
    "In this example we mainly use it for defining the radius of the beams for visualization purposes."
   ]
  },
  {
   "cell_type": "code",
   "execution_count": 3,
   "metadata": {},
   "outputs": [],
   "source": [
    "from meshpy.four_c.element_beam import Beam3rLine2Line2\n",
    "from meshpy.four_c.material import MaterialReissner\n",
    "\n",
    "beam_type = Beam3rLine2Line2\n",
    "beam_mat = MaterialReissner"
   ]
  },
  {
   "cell_type": "markdown",
   "metadata": {},
   "source": [
    "The `Mesh` class is the core MeshPy class that will hold all the nodes, elements, materials, and geometry sets for the created geometries."
   ]
  },
  {
   "cell_type": "code",
   "execution_count": 4,
   "metadata": {},
   "outputs": [],
   "source": [
    "from meshpy.core.mesh import Mesh"
   ]
  },
  {
   "cell_type": "markdown",
   "metadata": {},
   "source": [
    "## Straight lines\n",
    "\n",
    "We already have everything we need to create basic geometries.\n",
    "Let's start of with the most basic one, a straight line.\n",
    "For that we need the `create_beam_mesh_line` function.\n",
    "Mesh generation functions always require to provide a mesh to add the created geometry to, a beam type and a beam material.\n",
    "In this example we create a line between the points $\\vv{p} = [0,0,0]$ and $\\vv{q}=[1,0,0]$ with 3 equally spaced beam elements:"
   ]
  },
  {
   "cell_type": "code",
   "execution_count": null,
   "metadata": {},
   "outputs": [
    {
     "data": {
      "text/plain": [
       "{'start': <meshpy.core.geometry_set.GeometrySet at 0x769be1404110>,\n",
       " 'end': <meshpy.core.geometry_set.GeometrySet at 0x769be1404ec0>,\n",
       " 'line': <meshpy.core.geometry_set.GeometrySet at 0x769be14068a0>}"
      ]
     },
     "execution_count": 6,
     "metadata": {},
     "output_type": "execute_result"
    }
   ],
   "source": [
    "from meshpy.mesh_creation_functions.beam_basic_geometry import create_beam_mesh_line\n",
    "\n",
    "mesh = Mesh()\n",
    "material = beam_mat(radius=0.01)\n",
    "create_beam_mesh_line(mesh, beam_type, material, [0, 0, 0], [1, 0, 0], n_el=3)"
   ]
  },
  {
   "cell_type": "markdown",
   "metadata": {},
   "source": [
    "We can see that the mesh creation function returned a dictionary containing `GeometrySet`s.\n",
    "These geometry sets can be used to define boundary conditions.\n",
    "In this case we get the following sets:\n",
    "- `start`: A geometry set referring to the start node of the line\n",
    "- `end`: A geometry set referring to the end node of the line\n",
    "- `line`: A geometry set referring to all created beam elements along the line\n",
    "\n",
    "Later we will dive closer into `GeometrySets`.\n",
    "\n",
    "We can directly have a look at the created geometry with the `Mesh.display_pyvista` method:"
   ]
  },
  {
   "cell_type": "code",
   "execution_count": null,
   "metadata": {},
   "outputs": [],
   "source": [
    "mesh.display_pyvista()"
   ]
  },
  {
   "cell_type": "markdown",
   "metadata": {},
   "source": [
    "TODO: describe vtu output"
   ]
  },
  {
   "cell_type": "markdown",
   "metadata": {},
   "source": [
    "## TODO"
   ]
  }
 ],
 "metadata": {
  "kernelspec": {
   "display_name": "Python 3",
   "language": "python",
   "name": "python3"
  },
  "language_info": {
   "codemirror_mode": {
    "name": "ipython",
    "version": 3
   },
   "file_extension": ".py",
   "mimetype": "text/x-python",
   "name": "python",
   "nbconvert_exporter": "python",
   "pygments_lexer": "ipython3",
   "version": "3.12.9"
  }
 },
 "nbformat": 4,
 "nbformat_minor": 2
}
