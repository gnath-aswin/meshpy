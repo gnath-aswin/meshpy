{
 "cells": [
  {
   "cell_type": "markdown",
   "metadata": {},
   "source": [
    "# Example 1: Introduction to finite rotations in MeshPy\n",
    "$\n",
    "% Define TeX macros for this document\n",
    "\\def\\vv#1{\\boldsymbol{#1}}\n",
    "\\def\\mm#1{\\boldsymbol{#1}}\n",
    "\\def\\R#1{\\mathbb{R}^{#1}}\n",
    "\\def\\SO{SO(3)}\n",
    "\\def\\triad{\\mm{\\Lambda}}\n",
    "$\n",
    "When working with Cosserat continua in 3D, the mathematical treatment of finite rotations is required.\n",
    "This example gives an overview of the finite rotation functionality in MeshPy.\n",
    "For a more comprehensive and theoretical overview of finite rotations, the interested reader is referred to:\n",
    "- Crisfield, M. A., 1997, Non-Linear Finite Element Analysis of Solids and Structures, Volume 2, Advanced Topics, Wiley & Sons.\n",
    "- Krenk, S., 2009, Non-Linear Modeling and Analysis of Solids and Structures, Cambridge University Press.\n",
    "\n",
    "All finite rotation functionality within MeshPy can be accessed via the `Rotation` class.\n",
    "Each instance of this class represents an element of the special orthogonal group $\\SO$.\n",
    "\n",
    "The rotation class can be imported with"
   ]
  },
  {
   "cell_type": "code",
   "execution_count": null,
   "metadata": {},
   "outputs": [],
   "source": [
    "import numpy as np\n",
    "import pyvista as pv\n",
    "\n",
    "# Import the MeshPy rotation class\n",
    "from meshpy.core.rotation import Rotation\n",
    "\n",
    "# Utility functionality for this example\n",
    "from utils.example_1_utils import (\n",
    "    PyVistaPlotter,\n",
    "    add_cube_plot,\n",
    "    print_matrix,\n",
    "    print_rotation_matrix,\n",
    ")\n",
    "\n",
    "# For this example we only require static pyvista plots\n",
    "pv.set_jupyter_backend(\"static\")"
   ]
  },
  {
   "cell_type": "markdown",
   "metadata": {},
   "source": [
    "## Different finite rotation representations\n",
    "\n",
    "Internally, MeshPy uses a unit-quaternion representation to store the $\\SO$ element which provides an efficient an singularity free representation.\n",
    "However, the user can input and output all major representations of large rotations via the `Rotation` class.\n",
    "Supported representations are:\n",
    "- **Rotation axis and angle:** \n",
    "  From an user input point of view, this is the most natural wat to create a large rotation object. This is the default initialization method via the constructor, i.e., `rotation = Rotation(axis, angle)`\n",
    "- **Rotation (pseudo-) vector:** can be done with `rotation = Rotation.from_rotation_vector(psi)`\n",
    "- **Unit-quaternion:** can be done with `rotation = Rotation.from_quaternion(q)`\n",
    "- **Rotation matrix:** can be done with `rotation = Rotation.from_rotation_matrix(R)`\n",
    "\n",
    "\n",
    "Lets start with the creation of a unit rotation from  all different representations"
   ]
  },
  {
   "cell_type": "code",
   "execution_count": null,
   "metadata": {},
   "outputs": [],
   "source": [
    "# Unit rotation from the axis/angle constructor.\n",
    "# Note: In this case the rotation axis does not matter, but it can not be a 0 vector\n",
    "unit_rotation_from_axis_angle = Rotation([1, 1, 1], 0.0)\n",
    "\n",
    "# Unit rotation from a rotation vector\n",
    "unit_rotation_from_rotation_vector = Rotation.from_rotation_vector([0, 0, 0])\n",
    "\n",
    "# Unit rotation from a quaternion\n",
    "unit_rotation_from_quaternion = Rotation.from_quaternion([1, 0, 0, 0])\n",
    "\n",
    "# Unit rotation from a rotation matrix (in this case the identity matrix)\n",
    "unit_rotation_from_rotation_matrix = Rotation.from_rotation_matrix(np.identity(3))\n",
    "\n",
    "# An empty constructor also creates a unit rotation\n",
    "unit_rotation_constructor = Rotation()"
   ]
  },
  {
   "cell_type": "markdown",
   "metadata": {},
   "source": [
    "We can now check that all created rotations are equal"
   ]
  },
  {
   "cell_type": "code",
   "execution_count": null,
   "metadata": {},
   "outputs": [],
   "source": [
    "assert unit_rotation_constructor == unit_rotation_from_axis_angle\n",
    "assert unit_rotation_constructor == unit_rotation_from_rotation_vector\n",
    "assert unit_rotation_constructor == unit_rotation_from_quaternion\n",
    "assert unit_rotation_constructor == unit_rotation_from_rotation_matrix"
   ]
  },
  {
   "cell_type": "markdown",
   "metadata": {},
   "source": [
    "In the next step, lets create rotations around the $x$-axis with an angle of $\\pi/3$.\n",
    "\n",
    "Note: The rotation matrix representing this rotation is\n",
    "$$\n",
    "\\mm{R}_x = \n",
    "\\begin{bmatrix}\n",
    "1 & 0 & 0 \\\\\n",
    "0 & \\cos\\left(\\frac{\\pi}{3}\\right) & -\\sin\\left(\\frac{\\pi}{3}\\right) \\\\\n",
    "0 & \\sin\\left(\\frac{\\pi}{3}\\right) & \\cos\\left(\\frac{\\pi}{3}\\right)\n",
    "\\end{bmatrix}\n",
    "$$"
   ]
  },
  {
   "cell_type": "code",
   "execution_count": null,
   "metadata": {},
   "outputs": [],
   "source": [
    "# Rotation from the axis/angle constructor\n",
    "# We define the x-axis as rotation axis and the angle as the second argument\n",
    "rotation_from_axis_angle = Rotation([1, 0, 0], np.pi / 3)\n",
    "\n",
    "# Rotation from a rotation vector\n",
    "rotation_from_rotation_vector = Rotation.from_rotation_vector([np.pi / 3, 0, 0])\n",
    "\n",
    "# Rotation from a rotation matrix\n",
    "rotation_from_rotation_matrix = Rotation.from_rotation_matrix(\n",
    "    np.array(\n",
    "        [\n",
    "            [1, 0, 0],\n",
    "            [0, np.cos(np.pi / 3), -np.sin(np.pi / 3)],\n",
    "            [0, np.sin(np.pi / 3), np.cos(np.pi / 3)],\n",
    "        ]\n",
    "    )\n",
    ")"
   ]
  },
  {
   "cell_type": "markdown",
   "metadata": {},
   "source": [
    "Again, we can check that all initializations result in the same rotation object"
   ]
  },
  {
   "cell_type": "code",
   "execution_count": null,
   "metadata": {},
   "outputs": [],
   "source": [
    "assert rotation_from_axis_angle == rotation_from_rotation_vector\n",
    "assert rotation_from_axis_angle == rotation_from_rotation_matrix"
   ]
  },
  {
   "cell_type": "markdown",
   "metadata": {},
   "source": [
    "We can also extract the different representations from any `Rotation` object\n",
    "\n",
    "Note: The axis/angle representation is not unique and mainly useful as an input, therefore, no `get_axis_angle` method exists."
   ]
  },
  {
   "cell_type": "code",
   "execution_count": null,
   "metadata": {},
   "outputs": [],
   "source": [
    "rotation = Rotation([1, 0, 0], np.pi / 3)\n",
    "\n",
    "print(f\"Quaternion representation:\\n{rotation.get_quaternion()}\\n\")\n",
    "print(f\"Rotation vector representation:\\n{rotation.get_rotation_vector()}\\n\")\n",
    "print(f\"Rotation matrix representation:\\n{rotation.get_rotation_matrix()}\")"
   ]
  },
  {
   "cell_type": "markdown",
   "metadata": {},
   "source": [
    "## Finite rotation calculations\n",
    "\n",
    "For mesh creation purposes it is essential to compose multiple rotations, calculate relative rotations or rotate a vector by a given rotation.\n",
    "With the `Rotation` class this can easily be achieved in a pythonic way.\n",
    "\n",
    "Lets start of with the rotation $\\triad_{x}$ (around $x$-axis with angle $\\pi/2$) and $\\triad_{y}$ (around $y$-axis with angle $\\pi/2$)"
   ]
  },
  {
   "cell_type": "code",
   "execution_count": null,
   "metadata": {},
   "outputs": [],
   "source": [
    "lambda_x = Rotation([1, 0, 0], 0.5 * np.pi)\n",
    "lambda_y = Rotation([0, 1, 0], 0.5 * np.pi)"
   ]
  },
  {
   "cell_type": "markdown",
   "metadata": {},
   "source": [
    "We can visualize these rotations"
   ]
  },
  {
   "cell_type": "code",
   "execution_count": null,
   "metadata": {},
   "outputs": [],
   "source": [
    "with PyVistaPlotter(shape=(1, 3), window_size=(1400, 500)) as plotter:\n",
    "    add_cube_plot(plotter, 0, 0, Rotation(), \"Original object\")\n",
    "    add_cube_plot(\n",
    "        plotter,\n",
    "        0,\n",
    "        1,\n",
    "        lambda_x,\n",
    "        \"Rotated around the $x$-axis\\nwith the angle $\\\\pi/2$ ($\\\\Lambda_{x}$)\",\n",
    "    )\n",
    "    add_cube_plot(\n",
    "        plotter,\n",
    "        0,\n",
    "        2,\n",
    "        lambda_y,\n",
    "        \"Rotated around the $y$-axis\\nwith the angle $\\\\pi/2$ ($\\\\Lambda_{y}$)\",\n",
    "    )"
   ]
  },
  {
   "cell_type": "markdown",
   "metadata": {},
   "source": [
    "We can now compute the composition of the two rotations $\\triad_{yx}$, i.e., first applying $\\triad_{x}$ then $\\triad_{y}$.\n",
    "This can be done with the standard multiply operator `*`:"
   ]
  },
  {
   "cell_type": "code",
   "execution_count": null,
   "metadata": {},
   "outputs": [],
   "source": [
    "lambda_yx = lambda_y * lambda_x\n",
    "print_rotation_matrix(\"lambda_yx\", lambda_yx)"
   ]
  },
  {
   "cell_type": "markdown",
   "metadata": {},
   "source": [
    "An important property for elements of $\\SO$ is, that multiplications are non-commutative, i.e., the order of the elements in the multiplication matters.\n",
    "Thus, $\\triad_{yx} = \\triad_{y} \\triad_{x} \\ne \\triad_{x} \\triad_{y} = \\triad_{xy}$.\n",
    "We can easily check this"
   ]
  },
  {
   "cell_type": "code",
   "execution_count": null,
   "metadata": {},
   "outputs": [],
   "source": [
    "lambda_xy = lambda_x * lambda_y\n",
    "print_rotation_matrix(\"lambda_xy\", lambda_xy)\n",
    "\n",
    "if lambda_xy == lambda_yx:\n",
    "    print(\"Rotations lambda_yx and lambda_xy are equal!\")\n",
    "else:\n",
    "    print(\"Rotations lambda_yx and lambda_xy are NOT equal!\")\n",
    "\n",
    "assert not lambda_yx == lambda_xy"
   ]
  },
  {
   "cell_type": "markdown",
   "metadata": {},
   "source": [
    "We can also visualize that these rotations are not equal to each other"
   ]
  },
  {
   "cell_type": "code",
   "execution_count": null,
   "metadata": {},
   "outputs": [],
   "source": [
    "with PyVistaPlotter(shape=(1, 3), window_size=(1400, 500)) as plotter:\n",
    "    add_cube_plot(plotter, 0, 0, Rotation(), \"Original object\")\n",
    "    add_cube_plot(\n",
    "        plotter,\n",
    "        0,\n",
    "        1,\n",
    "        lambda_yx,\n",
    "        \"Rotated by $\\\\Lambda_{yx}$\\n(First by $\\\\Lambda_x$, then by $\\\\Lambda_y$)\",\n",
    "    )\n",
    "    add_cube_plot(\n",
    "        plotter,\n",
    "        0,\n",
    "        2,\n",
    "        lambda_xy,\n",
    "        \"Rotated by $\\\\Lambda_{xy}$\\n(First by $\\\\Lambda_y$, then by $\\\\Lambda_x$)\",\n",
    "    )"
   ]
  },
  {
   "cell_type": "markdown",
   "metadata": {},
   "source": [
    "Rotations can also be inverted.\n",
    "This allows to easily calculate $\\triad_{y}$ from $\\triad_{yx}$ and $\\triad_{x}$ via $\\triad_{y} = \\triad_{yx} (\\triad_{x})^{-1}$"
   ]
  },
  {
   "cell_type": "code",
   "execution_count": null,
   "metadata": {},
   "outputs": [],
   "source": [
    "lambda_y_computed = lambda_yx * lambda_x.inv()\n",
    "assert lambda_y == lambda_y_computed"
   ]
  },
  {
   "cell_type": "markdown",
   "metadata": {},
   "source": [
    "In many cases, we need to compute the rotation of a vector $\\vv{r} \\in \\R{3}$.\n",
    "For example $\\vv{r}' = \\triad_{21} \\vv{r}$.\n",
    "This can be done the following way"
   ]
  },
  {
   "cell_type": "code",
   "execution_count": null,
   "metadata": {},
   "outputs": [],
   "source": [
    "r = [1, 2, 3]\n",
    "r_prime = lambda_yx * r\n",
    "print(f\"Rotated vector: {r_prime}\")"
   ]
  },
  {
   "cell_type": "markdown",
   "metadata": {},
   "source": [
    "## Advanced features"
   ]
  },
  {
   "cell_type": "markdown",
   "metadata": {},
   "source": [
    "MeshPy also provides advanced finite rotation functionality such as smallest rotation mappings and transformation matrices between additive and multiplicative increments."
   ]
  },
  {
   "cell_type": "markdown",
   "metadata": {},
   "source": [
    "### Smallest rotation mapping\n",
    "\n",
    "A smallest rotation mapping calculates the triad $\\triad_{sr}$ that results from the smallest rotation (rotation without twist) from the triad $\\triad$ such that the rotated first basis vector aligns\n",
    "with $\\vv{t}$.\n",
    "In mathematical terms, $\\vv{t} = \\triad_{sr} \\vv{e}_1$, where the rotation vector for the relative triad $\\triad_{rel} = \\triad_{sr}(\\triad)^{-1}$ is a minimum."
   ]
  },
  {
   "cell_type": "code",
   "execution_count": null,
   "metadata": {},
   "outputs": [],
   "source": [
    "from meshpy.core.rotation import smallest_rotation\n",
    "\n",
    "rotation = Rotation([1, 2, 3], np.pi / 6.0)\n",
    "lambda_sr = smallest_rotation(rotation, [1, 0.5, 0])\n",
    "print(f\"First basis vector of lambda_sr: {lambda_sr * [1,0,0]}\")"
   ]
  },
  {
   "cell_type": "markdown",
   "metadata": {},
   "source": [
    "### Transformation matrix $\\mm{T}$\n",
    "\n",
    "The infinitesimal variations of the rotation tensor $\\triad(\\vv{\\psi})$ (where $\\vv{\\psi}$ is the rotation vector) can be expressed in two ways:\n",
    "- Additive Variation:\n",
    "   $$\n",
    "   \\delta \\triad = \\frac{d}{d\\epsilon} \\bigg|_{\\epsilon=0} \\triad(\\vv{\\psi} + \\epsilon \\delta \\vv{\\psi}) = \\frac{\\partial \\triad(\\vv{\\psi})}{\\partial \\vv{\\psi}} \\delta \\vv{\\psi}\n",
    "   $$\n",
    "   This represents the standard definition of partial differentiation, which is based on additive increments.\n",
    "\n",
    "- Multiplicative Variation (also referred to as the spin vector variation):\n",
    "   $$\n",
    "   \\delta \\triad = \\frac{d}{d\\epsilon} \\bigg|_{\\epsilon=0} \\triad(\\epsilon \\delta \\vv{\\theta}) \\triad(\\vv{\\psi}) = \\mm{S}(\\delta \\vv{\\theta}) \\triad(\\vv{\\psi})\n",
    "   $$\n",
    "   Here, $\\mm{S}(\\delta \\vv{\\theta})$ is the skew-symmetric matrix corresponding to the axial vector $\\delta \\vv{\\theta}$.\n",
    "\n",
    "The two variations are related through the transformation matrix $\\mm{T}(\\vv{\\psi})$, which satisfies:\n",
    "$$\n",
    "\\delta \\vv{\\psi} = \\mm{T}(\\vv{\\psi}) \\delta \\vv{\\theta}\n",
    "$$\n",
    "\n",
    "MeshPy provides an explicit implementation of $\\mm{T}$ and $\\mm{T}^{-1}$ via the `Rotation` class:"
   ]
  },
  {
   "cell_type": "code",
   "execution_count": null,
   "metadata": {},
   "outputs": [],
   "source": [
    "rotation = Rotation([1, 2, 3], np.pi / 6.0)\n",
    "print_matrix(\"Transformation matrix\", rotation.get_transformation_matrix())\n",
    "print_matrix(\"Transformation matrix inverse\", rotation.get_transformation_matrix_inv())"
   ]
  }
 ],
 "metadata": {
  "kernelspec": {
   "display_name": "meshpy",
   "language": "python",
   "name": "python3"
  },
  "language_info": {
   "codemirror_mode": {
    "name": "ipython",
    "version": 3
   },
   "file_extension": ".py",
   "mimetype": "text/x-python",
   "name": "python",
   "nbconvert_exporter": "python",
   "pygments_lexer": "ipython3"
  }
 },
 "nbformat": 4,
 "nbformat_minor": 2
}
